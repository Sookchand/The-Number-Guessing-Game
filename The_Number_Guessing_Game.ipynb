{
  "nbformat": 4,
  "nbformat_minor": 0,
  "metadata": {
    "colab": {
      "provenance": []
    },
    "kernelspec": {
      "name": "python3",
      "display_name": "Python 3"
    },
    "language_info": {
      "name": "python"
    }
  },
  "cells": [
    {
      "cell_type": "markdown",
      "source": [
        "Both codes are well-written and accomplish the same task of creating a number guessing game. However, there are some differences in their structure and functionality that might make one preferable over the other depending on the context. Here's a comparison:\n",
        "\n",
        "**First Code:**\n",
        "- The first code uses functions to encapsulate different parts of the game, which makes it more modular and easier to understand and maintain.\n",
        "- It uses constants (`EASY_LEVEL_TURNS` and `HARD_LEVEL_TURNS`) for the number of turns in each difficulty level, which is a good practice as it prevents magic numbers in the code.\n",
        "- The `check_answer` function in the first code returns the number of turns remaining, which makes it easier to track the game state.\n",
        "- The `set_difficulty` function directly returns the number of turns based on the difficulty level chosen by the user.\n",
        "\n",
        "**Second Code:**\n",
        "- The second code uses global variables (`lives`), which can be considered less ideal because it can make the code harder to debug and understand.\n",
        "- The `check_lives` function in the second code modifies the global variable `lives` based on the difficulty level chosen by the user.\n",
        "- The `compare` function in the second code handles both comparing the user's guess with the actual number and managing the game loop (reducing lives and prompting for another guess).\n",
        "\n",
        "In conclusion, while both codes are functional, the first code might be considered better due to its use of functions to encapsulate functionality and its avoidance of global variables. However, this is subjective and can depend on specific requirements or constraints. Both codes could be further improved by adding error handling for user input. For example, they currently assume that the user will always enter a valid integer when making a guess or choosing a difficulty level, which might not always be the case. Adding error handling for these cases would make the codes more robust."
      ],
      "metadata": {
        "id": "Y3IApJmLWbFp"
      }
    },
    {
      "cell_type": "code",
      "source": [
        "from google.colab import drive\n",
        "drive.mount('/content/drive')\n",
        "import sys\n",
        "sys.path.append('/content/drive/MyDrive')"
      ],
      "metadata": {
        "colab": {
          "base_uri": "https://localhost:8080/"
        },
        "id": "CgmnXdaLxwoW",
        "outputId": "9f35bbc4-effd-4913-d3ee-cd3b72d6813e"
      },
      "execution_count": 3,
      "outputs": [
        {
          "output_type": "stream",
          "name": "stdout",
          "text": [
            "Mounted at /content/drive\n"
          ]
        }
      ]
    },
    {
      "cell_type": "code",
      "source": [
        "import random\n",
        "from num_logo import logo\n",
        "\n",
        "EASY_LEVEL_TURNS = 10\n",
        "HARD_LEVEL_TURNS = 5\n",
        "\n",
        "# Function to check user guess against actual number\n",
        "def check_answer(guess, answer, turns):\n",
        "  \"\"\"checks answer against guess. Returns the number of turns remaining.\"\"\"\n",
        "  if guess > answer:\n",
        "    print(\"Too high.\")\n",
        "    return turns - 1\n",
        "  elif guess < answer:\n",
        "    print(\"Too low.\")\n",
        "    return turns - 1\n",
        "  else:\n",
        "    print(f\"You got it! The answer was {answer}.\")\n",
        "\n",
        "#Make function to set difficulty.\n",
        "def set_difficulty():\n",
        "  level = input(\"Choose a difficulty. Type 'easy' or 'hard': \")\n",
        "  if level == \"easy\":\n",
        "    return EASY_LEVEL_TURNS\n",
        "  else:\n",
        "    return HARD_LEVEL_TURNS\n",
        "\n",
        "def game():\n",
        "  print(logo)\n",
        "  #Choosing a random number between 1 and 100.\n",
        "  print(\"Welcome to the Number Guessing Game!\")\n",
        "  print(\"I'm thinking of a number between 1 and 100.\")\n",
        "  answer = random.randint(1, 100)\n",
        "  print(f\"Pssst, the correct answer is {answer}\")\n",
        "\n",
        "  turns = set_difficulty()\n",
        "  #Repeat the guessing functionality if they get it wrong.\n",
        "  guess = 0\n",
        "  while guess != answer:\n",
        "    print(f\"You have {turns} attempts remaining to guess the number.\")\n",
        "\n",
        "    #Let the user guess a number.\n",
        "    guess = int(input(\"Make a guess: \"))\n",
        "\n",
        "    #Track the number of turns and reduce by 1 if they get it wrong.\n",
        "    turns = check_answer(guess, answer, turns)\n",
        "    if turns == 0:\n",
        "      print(\"You've run out of guesses, you lose.\")\n",
        "      return\n",
        "    elif guess != answer:\n",
        "      print(\"Guess again.\")\n",
        "\n",
        "\n",
        "game()\n",
        "\n"
      ],
      "metadata": {
        "colab": {
          "base_uri": "https://localhost:8080/"
        },
        "id": "y1ZrKE8HU9-D",
        "outputId": "ba1b0086-d9c8-477f-c00f-d65de766f799"
      },
      "execution_count": 9,
      "outputs": [
        {
          "output_type": "stream",
          "name": "stdout",
          "text": [
            "\n",
            " _____ _     _____ ____  ____    _____  _     _____   _      _     _      ____  _____ ____   \n",
            "/  __// \\ /\\/  __// ___\\/ ___\\  /__ __\\/ \\ /|/  __/  / \\  /|/ \\ /\\/ \\__/|/  _ \\/  __//  __\\  \n",
            "| |  _| | |||  \\  |    \\|    \\    / \\  | |_|||  \\    | |\\ ||| | ||| |\\/||| | //|  \\  |  \\/|  \n",
            "| |_//| \\_/||  /_ \\___ |\\___ |    | |  | | |||  /_   | | \\||| \\_/|| |  ||| |_\\|  /_ |    /  \n",
            "\\____\\____/\\____\\____/\\____/    \\_/  \\_/ \\|\\____\\  \\_/  \\|\\____/\\_/  \\|\\____/\\____\\_/\\_\\  \n",
            "                                                                                             \n",
            "\n",
            "Welcome to the Number Guessing Game!\n",
            "I'm thinking of a number between 1 and 100.\n",
            "Pssst, the correct answer is 8\n",
            "Choose a difficulty. Type 'easy' or 'hard': 2\n",
            "You have 5 attempts remaining to guess the number.\n",
            "Make a guess: 2\n",
            "Too low.\n",
            "Guess again.\n",
            "You have 4 attempts remaining to guess the number.\n",
            "Make a guess: 4\n",
            "Too low.\n",
            "Guess again.\n",
            "You have 3 attempts remaining to guess the number.\n",
            "Make a guess: 6\n",
            "Too low.\n",
            "Guess again.\n",
            "You have 2 attempts remaining to guess the number.\n",
            "Make a guess: 10\n",
            "Too high.\n",
            "Guess again.\n",
            "You have 1 attempts remaining to guess the number.\n",
            "Make a guess: 8\n",
            "You got it! The answer was 8.\n"
          ]
        }
      ]
    },
    {
      "cell_type": "code",
      "source": [
        "import random\n",
        "from num_logo import logo\n",
        "print(logo)\n",
        "print(\"Welcome to The Number Guessing Game!\")\n",
        "print(\"I'm thinking of a number between 1 and 100.\")\n",
        "number = random.randint(1,100)\n",
        "print(f\"Pssst, the correct answer is {number}\")\n",
        "\n",
        "lives = 0 # This is the global variable\n",
        "\n",
        "def check_lives():\n",
        "    global lives\n",
        "    if input(\"Choose a difficulty. Type 'easy' or 'hard': \").lower() == 'hard':\n",
        "        lives = 5\n",
        "    else:\n",
        "        lives = 10\n",
        "    print(f\"You have {lives} attempts remaining to guess the number.\")\n",
        "\n",
        "def compare(user_num, computer_num):\n",
        "    global lives\n",
        "    while lives > 0:\n",
        "        if user_num > computer_num:\n",
        "            print(\"Too high.\")\n",
        "        elif user_num < computer_num:\n",
        "            print(\"Too low.\")\n",
        "        else:\n",
        "            print(\"You win!\")\n",
        "            return\n",
        "        lives -= 1\n",
        "        if lives > 0:\n",
        "            print(\"Guess again.\")\n",
        "            print(f\"You have {lives} attempts remaining to guess the number.\")\n",
        "            user_num = int(input(\"Make a guess: \"))\n",
        "        else:\n",
        "            print(\"You've run out of guesses, you lose.\")\n",
        "            return\n",
        "\n",
        "check_lives()\n",
        "user_num = int(input(\"Make a guess: \"))\n",
        "compare(user_num, number)"
      ],
      "metadata": {
        "colab": {
          "base_uri": "https://localhost:8080/"
        },
        "id": "qa4cl2ncWjsI",
        "outputId": "00dc301b-32ba-4736-80e4-54f94663f538"
      },
      "execution_count": 10,
      "outputs": [
        {
          "output_type": "stream",
          "name": "stdout",
          "text": [
            "\n",
            " _____ _     _____ ____  ____    _____  _     _____   _      _     _      ____  _____ ____   \n",
            "/  __// \\ /\\/  __// ___\\/ ___\\  /__ __\\/ \\ /|/  __/  / \\  /|/ \\ /\\/ \\__/|/  _ \\/  __//  __\\  \n",
            "| |  _| | |||  \\  |    \\|    \\    / \\  | |_|||  \\    | |\\ ||| | ||| |\\/||| | //|  \\  |  \\/|  \n",
            "| |_//| \\_/||  /_ \\___ |\\___ |    | |  | | |||  /_   | | \\||| \\_/|| |  ||| |_\\|  /_ |    /  \n",
            "\\____\\____/\\____\\____/\\____/    \\_/  \\_/ \\|\\____\\  \\_/  \\|\\____/\\_/  \\|\\____/\\____\\_/\\_\\  \n",
            "                                                                                             \n",
            "\n",
            "Welcome to The Number Guessing Game!\n",
            "I'm thinking of a number between 1 and 100.\n",
            "Pssst, the correct answer is 60\n",
            "Choose a difficulty. Type 'easy' or 'hard': hard\n",
            "You have 5 attempts remaining to guess the number.\n",
            "Make a guess: 60\n",
            "You win!\n"
          ]
        }
      ]
    },
    {
      "cell_type": "code",
      "source": [],
      "metadata": {
        "id": "TPPIp6FVWk0c"
      },
      "execution_count": null,
      "outputs": []
    }
  ]
}